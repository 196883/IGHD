{
  "nbformat": 4,
  "nbformat_minor": 0,
  "metadata": {
    "colab": {
      "name": "preprocessing.ipynb",
      "version": "0.3.2",
      "provenance": [],
      "collapsed_sections": []
    },
    "kernelspec": {
      "name": "python3",
      "display_name": "Python 3"
    }
  },
  "cells": [
    {
      "cell_type": "markdown",
      "metadata": {
        "id": "OhjZbvGhRa5v",
        "colab_type": "text"
      },
      "source": [
        "# Data Preprocessing"
      ]
    },
    {
      "cell_type": "markdown",
      "metadata": {
        "id": "lDFUeJVEZvJt",
        "colab_type": "text"
      },
      "source": [
        "## Read Data & Drop Columns"
      ]
    },
    {
      "cell_type": "code",
      "metadata": {
        "id": "_GYj47QgVoji",
        "colab_type": "code",
        "colab": {
          "base_uri": "https://localhost:8080/",
          "height": 281
        },
        "outputId": "306474a1-89da-4caa-c9f2-2a48c26b74b4"
      },
      "source": [
        "!pip install category_encoders"
      ],
      "execution_count": 182,
      "outputs": [
        {
          "output_type": "stream",
          "text": [
            "Collecting category_encoders\n",
            "\u001b[?25l  Downloading https://files.pythonhosted.org/packages/6e/a1/f7a22f144f33be78afeb06bfa78478e8284a64263a3c09b1ef54e673841e/category_encoders-2.0.0-py2.py3-none-any.whl (87kB)\n",
            "\u001b[K     |████████████████████████████████| 92kB 5.3MB/s \n",
            "\u001b[?25hRequirement already satisfied: patsy>=0.4.1 in /usr/local/lib/python3.6/dist-packages (from category_encoders) (0.5.1)\n",
            "Requirement already satisfied: scipy>=0.19.0 in /usr/local/lib/python3.6/dist-packages (from category_encoders) (1.3.0)\n",
            "Requirement already satisfied: pandas>=0.21.1 in /usr/local/lib/python3.6/dist-packages (from category_encoders) (0.24.2)\n",
            "Requirement already satisfied: numpy>=1.11.3 in /usr/local/lib/python3.6/dist-packages (from category_encoders) (1.16.4)\n",
            "Requirement already satisfied: scikit-learn>=0.20.0 in /usr/local/lib/python3.6/dist-packages (from category_encoders) (0.21.2)\n",
            "Requirement already satisfied: statsmodels>=0.6.1 in /usr/local/lib/python3.6/dist-packages (from category_encoders) (0.9.0)\n",
            "Requirement already satisfied: six in /usr/local/lib/python3.6/dist-packages (from patsy>=0.4.1->category_encoders) (1.12.0)\n",
            "Requirement already satisfied: python-dateutil>=2.5.0 in /usr/local/lib/python3.6/dist-packages (from pandas>=0.21.1->category_encoders) (2.5.3)\n",
            "Requirement already satisfied: pytz>=2011k in /usr/local/lib/python3.6/dist-packages (from pandas>=0.21.1->category_encoders) (2018.9)\n",
            "Requirement already satisfied: joblib>=0.11 in /usr/local/lib/python3.6/dist-packages (from scikit-learn>=0.20.0->category_encoders) (0.13.2)\n",
            "Installing collected packages: category-encoders\n",
            "Successfully installed category-encoders-2.0.0\n"
          ],
          "name": "stdout"
        }
      ]
    },
    {
      "cell_type": "code",
      "metadata": {
        "id": "O9NJY50PRZ3J",
        "colab_type": "code",
        "colab": {}
      },
      "source": [
        "import pandas as pd\n",
        "import numpy as np\n",
        "from scipy import stats\n",
        "from sklearn import preprocessing\n",
        "import matplotlib.pyplot as plt\n",
        "import seaborn as sns\n",
        "from google.colab import drive\n",
        "pd.set_option('display.max_columns', 200)\n",
        "%matplotlib inline"
      ],
      "execution_count": 0,
      "outputs": []
    },
    {
      "cell_type": "code",
      "metadata": {
        "id": "ANm80DxpR2Pt",
        "colab_type": "code",
        "colab": {
          "base_uri": "https://localhost:8080/",
          "height": 34
        },
        "outputId": "0f7ca933-74fe-4006-b89d-200ba6dfb633"
      },
      "source": [
        "drive.mount('/content/gdrive')"
      ],
      "execution_count": 245,
      "outputs": [
        {
          "output_type": "stream",
          "text": [
            "Drive already mounted at /content/gdrive; to attempt to forcibly remount, call drive.mount(\"/content/gdrive\", force_remount=True).\n"
          ],
          "name": "stdout"
        }
      ]
    },
    {
      "cell_type": "code",
      "metadata": {
        "id": "vixqd22RR7zs",
        "colab_type": "code",
        "colab": {
          "base_uri": "https://localhost:8080/",
          "height": 87
        },
        "outputId": "edf1ab2a-ce5b-4b45-c26c-9b3035da06e8"
      },
      "source": [
        "#read data\n",
        "df_train_genba = pd.read_table('gdrive/My Drive/Colab Notebooks/SIGNATE/IGHD/data/train_genba.tsv')\n",
        "df_train_goto = pd.read_table('gdrive/My Drive/Colab Notebooks/SIGNATE/IGHD/data/train_goto.tsv')\n",
        "#concat Data\n",
        "df = pd.merge(df_train_genba, df_train_goto, on = 'pj_no')\n",
        "#set index\n",
        "df = df.set_index('id')"
      ],
      "execution_count": 246,
      "outputs": [
        {
          "output_type": "stream",
          "text": [
            "/usr/local/lib/python3.6/dist-packages/ipykernel_launcher.py:1: FutureWarning: read_table is deprecated, use read_csv instead, passing sep='\\t'.\n",
            "  \"\"\"Entry point for launching an IPython kernel.\n",
            "/usr/local/lib/python3.6/dist-packages/ipykernel_launcher.py:2: FutureWarning: read_table is deprecated, use read_csv instead, passing sep='\\t'.\n",
            "  \n"
          ],
          "name": "stderr"
        }
      ]
    },
    {
      "cell_type": "code",
      "metadata": {
        "id": "-XO3VNW_YRoz",
        "colab_type": "code",
        "colab": {}
      },
      "source": [
        "#drop columns\n",
        "df = df.drop(columns = {'pj_no',\n",
        "'yoto2',\n",
        "'kempei2',\n",
        "'yoseki2',\n",
        "'road1_hk',\n",
        "'road1_sb',\n",
        "'road1_fi',\n",
        "'road1_mg',\n",
        "'road2_hk',\n",
        "'road2_sb',\n",
        "'road2_fi',\n",
        "'road2_mg',\n",
        "'road3_hk',\n",
        "'road3_sb',\n",
        "'road3_fi',\n",
        "'road3_mg',\n",
        "'road4_hk',\n",
        "'road4_sb',\n",
        "'road4_fi',\n",
        "'road4_mg',\n",
        "'gk_sho_kyori',\n",
        "'gk_chu_kyori',\n",
        "'kborjs',\n",
        "'toshikuiki2',\n",
        "'minmenseki',\n",
        "'hokakisei1',\n",
        "'hokakisei2',\n",
        "'hokakisei3',\n",
        "'hokakisei4',\n",
        "'kinshijiko',\n",
        "'rosenka_hb',\n",
        "'kijun_hb',\n",
        "'mseki_rd_hb',\n",
        "'mseki_dp_hb',\n",
        "'tc_mseki_min_hb',\n",
        "'tt_mseki_max_hb',\n",
        "'tc_mseki_avg_hb',\n",
        "'fi4m_yohi',\n",
        "'fi3m_yohi',\n",
        "'fi4m_kyori',\n",
        "'fi3m_kyori',\n",
        "'bus_yohi',\n",
        "'bus_hon',\n",
        "'sho_shoten',\n",
        "'sho_market',\n",
        "'shu_jutaku',\n",
        "'shu_park',\n",
        "'shu_shop',\n",
        "'shu_factory',\n",
        "'shu_hvline',\n",
        "'shu_tower',\n",
        "'shu_bochi',\n",
        "'shu_sogi',\n",
        "'shu_zoki',\n",
        "'shu_kokyo',\n",
        "'shu_highway',\n",
        "'shu_kaido',\n",
        "'shu_line_ari',\n",
        "'shu_line_nashi',\n",
        "'shu_soon',\n",
        "'gk_yoc_tm',\n",
        "'gk_sho_tm',\n",
        "'gk_chu_tm',\n",
        "'rs_e_kdate3',\n",
        "'rs_e_parking',\n",
        "'rs_e_zoki',\n",
        "'rs_e_m_ari',\n",
        "'rs_e_m_nashi',\n",
        "'rs_e_tahata',\n",
        "'rs_w_kdate3',\n",
        "'rs_w_parking',\n",
        "'rs_w_zoki',\n",
        "'rs_w_m_ari',\n",
        "'rs_w_m_nashi',\n",
        "'rs_w_tahata',\n",
        "'rs_s_kdate3',\n",
        "'rs_s_parking',\n",
        "'rs_s_zoki',\n",
        "'rs_s_m_ari',\n",
        "'rs_s_m_nashi',\n",
        "'rs_s_tahata',\n",
        "'rs_n_kdate3',\n",
        "'rs_n_parking',\n",
        "'rs_n_zoki',\n",
        "'rs_n_m_ari',\n",
        "'rs_n_m_nashi',\n",
        "'rs_n_tahata',\n",
        "'eki_nm1',\n",
        "'eki_kyori1',\n",
        "'bastei_nm1',\n",
        "'teiho1',\n",
        "'rosen_nm2',\n",
        "'eki_nm2',\n",
        "'bas_toho2',\n",
        "'eki_kyori2',\n",
        "'bastei_nm2',\n",
        "'teiho2',\n",
        "'pj_no',\n",
        "'tt_mseki',\n",
        "'road_st',\n",
        "'setsudo_hi',\n",
        "'kobetsu2',\n",
        "'kobetsu3',\n",
        "'kobetsu4',\n",
        "'hy1f_date_su'})"
      ],
      "execution_count": 0,
      "outputs": []
    },
    {
      "cell_type": "code",
      "metadata": {
        "id": "l6DQlhQxaszu",
        "colab_type": "code",
        "colab": {}
      },
      "source": [
        "#replace\n",
        "df = df.replace({'（要）' : 1, \n",
        "                '（不要）' : 0, \n",
        "                '○' : 1, \n",
        "                '（有）' : 1, \n",
        "                '（無）' : 0})"
      ],
      "execution_count": 0,
      "outputs": []
    },
    {
      "cell_type": "markdown",
      "metadata": {
        "id": "09u6EJKNZpZ7",
        "colab_type": "text"
      },
      "source": [
        "## NaN preprocessing"
      ]
    },
    {
      "cell_type": "code",
      "metadata": {
        "id": "ussXED6eZpK1",
        "colab_type": "code",
        "colab": {}
      },
      "source": [
        "#fill nan by 0\n",
        "df.loc[:, ['sho_conv',\n",
        "'sho_super',\n",
        "'rs_e_kdate2',\n",
        "'rs_w_kdate2',\n",
        "'rs_s_kdate2',\n",
        "'rs_n_kdate2'\n",
        "]] = df.loc[:, ['sho_conv',\n",
        "'sho_super',\n",
        "'rs_e_kdate2',\n",
        "'rs_w_kdate2',\n",
        "'rs_s_kdate2',\n",
        "'rs_n_kdate2'\n",
        "]].fillna(0)"
      ],
      "execution_count": 0,
      "outputs": []
    },
    {
      "cell_type": "code",
      "metadata": {
        "id": "mHt2uKrXcRY-",
        "colab_type": "code",
        "colab": {}
      },
      "source": [
        "#fill nan by mean\n",
        "mean_list = ['chiseki_kb_hb',\n",
        "'kaoku_hb',\n",
        "'tt_mseki_avg_hb',\n",
        "'fukuin',\n",
        "'magutchi']\n",
        "\n",
        "for i in mean_list:\n",
        "    df[i] = df[i].fillna(df[i].mean())"
      ],
      "execution_count": 0,
      "outputs": []
    },
    {
      "cell_type": "code",
      "metadata": {
        "id": "dh-WoaYVfBA2",
        "colab_type": "code",
        "colab": {}
      },
      "source": [
        "#finn nan by mode\n",
        "mode_list = ['tateuri_su',\n",
        "'tochiuri_su',\n",
        "'joken_su',\n",
        "'hy2f_date_su',\n",
        "'hy3f_date_su',\n",
        "'levelplan',\n",
        "'setsudo_kj',\n",
        "'jigata',\n",
        "'hiatari']\n",
        "\n",
        "for i in mode_list:\n",
        "    df[i] = df[i].fillna(df[i].mode()[0])"
      ],
      "execution_count": 0,
      "outputs": []
    },
    {
      "cell_type": "code",
      "metadata": {
        "id": "6YJbKXYemR_-",
        "colab_type": "code",
        "colab": {}
      },
      "source": [
        "#fillna by 0 otherwise 1\n",
        "df['kobetsu1'] = df['kobetsu1'].fillna(0)\n",
        "df['kobetsu1'] = df['kobetsu1'].apply(lambda x: 0 if x == 0 else 1)"
      ],
      "execution_count": 0,
      "outputs": []
    },
    {
      "cell_type": "markdown",
      "metadata": {
        "id": "lu4IRwHH_W5i",
        "colab_type": "text"
      },
      "source": [
        "## Create Features"
      ]
    },
    {
      "cell_type": "code",
      "metadata": {
        "id": "UkFUf2en7PEq",
        "colab_type": "code",
        "colab": {}
      },
      "source": [
        "#Extract City Name from 'jukyo' field\n",
        "df['jukyo'] = df['jukyo'].str.replace('埼玉県', '')\n",
        "df['jukyo'] = df['jukyo'].str.split('市', expand = True).drop(1, axis = 1)\n",
        "df['jukyo'] = df['jukyo'].str.split('郡', expand = True)"
      ],
      "execution_count": 0,
      "outputs": []
    },
    {
      "cell_type": "code",
      "metadata": {
        "id": "h80JKjY27thL",
        "colab_type": "code",
        "colab": {}
      },
      "source": [
        "# Rosen preprocessing\n",
        "df['rosen_nm1'] = df['rosen_nm1'].map(lambda x: 'JR' if 'JR' in x else ('東武' if '東武' in x else ('西武' if '西武' in x else ('埼玉高速鉄道' if '埼玉高速鉄道' in x else 'others'))))"
      ],
      "execution_count": 0,
      "outputs": []
    },
    {
      "cell_type": "code",
      "metadata": {
        "id": "418Jap7FU1LB",
        "colab_type": "code",
        "colab": {}
      },
      "source": [
        "#Target Encoding\n",
        "target_encoding_list = ['jukyo',\n",
        "'yoto1',\n",
        "'kempei1',\n",
        "'yoseki1',\n",
        "'josui',\n",
        "'gesui',\n",
        "'gas',\n",
        "'usui',\n",
        "'tateuri_su',\n",
        "'tochiuri_su',\n",
        "'joken_su',\n",
        "'kaoku_um',\n",
        "'yheki_umu',\n",
        "'yheki_yohi',\n",
        "'hw_status',\n",
        "'toshikuiki1',\n",
        "'kodochiku',\n",
        "'chikukeikaku',\n",
        "'keikakuroad',\n",
        "'kaihatsukyoka',\n",
        "'t53kyoka',\n",
        "'hokakyoka',\n",
        "'bokachiiki',\n",
        "'sho_conv',\n",
        "'sho_super',\n",
        "'rs_e_kdate2',\n",
        "'rs_w_kdate2',\n",
        "'rs_s_kdate2',\n",
        "'rs_n_kdate2',\n",
        "'rosen_nm1',\n",
        "'bas_toho1',\n",
        "'levelplan',\n",
        "'setsudo_kj',\n",
        "'jigata',\n",
        "'hiatari',\n",
        "'garage',\n",
        "'kobetsu1']\n",
        "\n",
        "for i in target_encoding_list:\n",
        "    category_counts = i + '_' + 'category_counts'\n",
        "    outcome_counts = i + '_' + 'outcomecounts'\n",
        "    #Count each category and sum(price)\n",
        "    grouped_category = df.groupby(i)[i].count().reset_index(name = category_counts)\n",
        "    grouped_outcome = df.groupby(i)['keiyaku_pr'].sum().reset_index(name = outcome_counts)\n",
        "    \n",
        "    #Merge by key\n",
        "    df = df.merge(grouped_category, how = \"left\", on = i)\n",
        "    df = df.merge(grouped_outcome, how = \"left\", on = i)\n",
        "    \n",
        "    #Exclude by oneself\n",
        "    target_mean_encoding = i + '_' + 'tme'\n",
        "    df[target_mean_encoding] = (df[outcome_counts] - df['keiyaku_pr'])/(df[category_counts] - 1)\n",
        "    df = df.drop(columns = {i, category_counts, outcome_counts})"
      ],
      "execution_count": 0,
      "outputs": []
    },
    {
      "cell_type": "code",
      "metadata": {
        "id": "Unw_4FjDeOVL",
        "colab_type": "code",
        "colab": {}
      },
      "source": [
        "#Standirzation\n",
        "df_wo_y = df.drop('keiyaku_pr', axis = 1)\n",
        "df_wo_y = (df_wo_y - df_wo_y.min()) / (df_wo_y.max() - df_wo_y.min()) "
      ],
      "execution_count": 0,
      "outputs": []
    },
    {
      "cell_type": "code",
      "metadata": {
        "id": "jbkG-v5Og_2z",
        "colab_type": "code",
        "colab": {}
      },
      "source": [
        "df_std = pd.concat([df_wo_y, df['keiyaku_pr']], axis = 1)"
      ],
      "execution_count": 0,
      "outputs": []
    },
    {
      "cell_type": "markdown",
      "metadata": {
        "id": "HTUHY9-oiKo1",
        "colab_type": "text"
      },
      "source": [
        "### Model Set"
      ]
    },
    {
      "cell_type": "code",
      "metadata": {
        "id": "CYE8y_hUiP8G",
        "colab_type": "code",
        "colab": {}
      },
      "source": [
        "import xgboost as xgb\n",
        "from sklearn.model_selection import train_test_split\n",
        "from sklearn.model_selection import GridSearchCV\n",
        "from sklearn.metrics import mean_squared_error"
      ],
      "execution_count": 0,
      "outputs": []
    },
    {
      "cell_type": "code",
      "metadata": {
        "id": "1cOwUFMXiYwq",
        "colab_type": "code",
        "colab": {}
      },
      "source": [
        "#Train Test Split\n",
        "X_train, X_test, y_train, y_test = train_test_split(df_wo_y,  df['keiyaku_pr'], test_size = 0.2, random_state = 777)"
      ],
      "execution_count": 0,
      "outputs": []
    },
    {
      "cell_type": "code",
      "metadata": {
        "id": "5EknFaC6kKsr",
        "colab_type": "code",
        "colab": {
          "base_uri": "https://localhost:8080/",
          "height": 1882
        },
        "outputId": "3a498f75-4245-4a1e-ed79-3edd7559ae36"
      },
      "source": [
        "reg_xgb = xgb.XGBRegressor(njobs = -1)\n",
        "reg_xgb_cv = GridSearchCV(reg_xgb, {'max_depth': [2,4,6], 'n_estimators': [50,100,200]}, verbose=1)\n",
        "reg_xgb_cv.fit(X_train, y_train)"
      ],
      "execution_count": 278,
      "outputs": [
        {
          "output_type": "stream",
          "text": [
            "/usr/local/lib/python3.6/dist-packages/sklearn/model_selection/_split.py:1978: FutureWarning: The default value of cv will change from 3 to 5 in version 0.22. Specify it explicitly to silence this warning.\n",
            "  warnings.warn(CV_WARNING, FutureWarning)\n",
            "[Parallel(n_jobs=1)]: Using backend SequentialBackend with 1 concurrent workers.\n",
            "/usr/local/lib/python3.6/dist-packages/xgboost/core.py:587: FutureWarning: Series.base is deprecated and will be removed in a future version\n",
            "  if getattr(data, 'base', None) is not None and \\\n"
          ],
          "name": "stderr"
        },
        {
          "output_type": "stream",
          "text": [
            "Fitting 3 folds for each of 9 candidates, totalling 27 fits\n",
            "[16:44:10] WARNING: /workspace/src/objective/regression_obj.cu:152: reg:linear is now deprecated in favor of reg:squarederror.\n"
          ],
          "name": "stdout"
        },
        {
          "output_type": "stream",
          "text": [
            "/usr/local/lib/python3.6/dist-packages/xgboost/core.py:587: FutureWarning: Series.base is deprecated and will be removed in a future version\n",
            "  if getattr(data, 'base', None) is not None and \\\n"
          ],
          "name": "stderr"
        },
        {
          "output_type": "stream",
          "text": [
            "[16:44:11] WARNING: /workspace/src/objective/regression_obj.cu:152: reg:linear is now deprecated in favor of reg:squarederror.\n"
          ],
          "name": "stdout"
        },
        {
          "output_type": "stream",
          "text": [
            "/usr/local/lib/python3.6/dist-packages/xgboost/core.py:587: FutureWarning: Series.base is deprecated and will be removed in a future version\n",
            "  if getattr(data, 'base', None) is not None and \\\n"
          ],
          "name": "stderr"
        },
        {
          "output_type": "stream",
          "text": [
            "[16:44:11] WARNING: /workspace/src/objective/regression_obj.cu:152: reg:linear is now deprecated in favor of reg:squarederror.\n"
          ],
          "name": "stdout"
        },
        {
          "output_type": "stream",
          "text": [
            "/usr/local/lib/python3.6/dist-packages/xgboost/core.py:587: FutureWarning: Series.base is deprecated and will be removed in a future version\n",
            "  if getattr(data, 'base', None) is not None and \\\n"
          ],
          "name": "stderr"
        },
        {
          "output_type": "stream",
          "text": [
            "[16:44:11] WARNING: /workspace/src/objective/regression_obj.cu:152: reg:linear is now deprecated in favor of reg:squarederror.\n"
          ],
          "name": "stdout"
        },
        {
          "output_type": "stream",
          "text": [
            "/usr/local/lib/python3.6/dist-packages/xgboost/core.py:587: FutureWarning: Series.base is deprecated and will be removed in a future version\n",
            "  if getattr(data, 'base', None) is not None and \\\n"
          ],
          "name": "stderr"
        },
        {
          "output_type": "stream",
          "text": [
            "[16:44:12] WARNING: /workspace/src/objective/regression_obj.cu:152: reg:linear is now deprecated in favor of reg:squarederror.\n"
          ],
          "name": "stdout"
        },
        {
          "output_type": "stream",
          "text": [
            "/usr/local/lib/python3.6/dist-packages/xgboost/core.py:587: FutureWarning: Series.base is deprecated and will be removed in a future version\n",
            "  if getattr(data, 'base', None) is not None and \\\n"
          ],
          "name": "stderr"
        },
        {
          "output_type": "stream",
          "text": [
            "[16:44:13] WARNING: /workspace/src/objective/regression_obj.cu:152: reg:linear is now deprecated in favor of reg:squarederror.\n"
          ],
          "name": "stdout"
        },
        {
          "output_type": "stream",
          "text": [
            "/usr/local/lib/python3.6/dist-packages/xgboost/core.py:587: FutureWarning: Series.base is deprecated and will be removed in a future version\n",
            "  if getattr(data, 'base', None) is not None and \\\n"
          ],
          "name": "stderr"
        },
        {
          "output_type": "stream",
          "text": [
            "[16:44:13] WARNING: /workspace/src/objective/regression_obj.cu:152: reg:linear is now deprecated in favor of reg:squarederror.\n"
          ],
          "name": "stdout"
        },
        {
          "output_type": "stream",
          "text": [
            "/usr/local/lib/python3.6/dist-packages/xgboost/core.py:587: FutureWarning: Series.base is deprecated and will be removed in a future version\n",
            "  if getattr(data, 'base', None) is not None and \\\n"
          ],
          "name": "stderr"
        },
        {
          "output_type": "stream",
          "text": [
            "[16:44:15] WARNING: /workspace/src/objective/regression_obj.cu:152: reg:linear is now deprecated in favor of reg:squarederror.\n"
          ],
          "name": "stdout"
        },
        {
          "output_type": "stream",
          "text": [
            "/usr/local/lib/python3.6/dist-packages/xgboost/core.py:587: FutureWarning: Series.base is deprecated and will be removed in a future version\n",
            "  if getattr(data, 'base', None) is not None and \\\n"
          ],
          "name": "stderr"
        },
        {
          "output_type": "stream",
          "text": [
            "[16:44:16] WARNING: /workspace/src/objective/regression_obj.cu:152: reg:linear is now deprecated in favor of reg:squarederror.\n"
          ],
          "name": "stdout"
        },
        {
          "output_type": "stream",
          "text": [
            "/usr/local/lib/python3.6/dist-packages/xgboost/core.py:587: FutureWarning: Series.base is deprecated and will be removed in a future version\n",
            "  if getattr(data, 'base', None) is not None and \\\n"
          ],
          "name": "stderr"
        },
        {
          "output_type": "stream",
          "text": [
            "[16:44:18] WARNING: /workspace/src/objective/regression_obj.cu:152: reg:linear is now deprecated in favor of reg:squarederror.\n"
          ],
          "name": "stdout"
        },
        {
          "output_type": "stream",
          "text": [
            "/usr/local/lib/python3.6/dist-packages/xgboost/core.py:587: FutureWarning: Series.base is deprecated and will be removed in a future version\n",
            "  if getattr(data, 'base', None) is not None and \\\n"
          ],
          "name": "stderr"
        },
        {
          "output_type": "stream",
          "text": [
            "[16:44:18] WARNING: /workspace/src/objective/regression_obj.cu:152: reg:linear is now deprecated in favor of reg:squarederror.\n"
          ],
          "name": "stdout"
        },
        {
          "output_type": "stream",
          "text": [
            "/usr/local/lib/python3.6/dist-packages/xgboost/core.py:587: FutureWarning: Series.base is deprecated and will be removed in a future version\n",
            "  if getattr(data, 'base', None) is not None and \\\n"
          ],
          "name": "stderr"
        },
        {
          "output_type": "stream",
          "text": [
            "[16:44:19] WARNING: /workspace/src/objective/regression_obj.cu:152: reg:linear is now deprecated in favor of reg:squarederror.\n"
          ],
          "name": "stdout"
        },
        {
          "output_type": "stream",
          "text": [
            "/usr/local/lib/python3.6/dist-packages/xgboost/core.py:587: FutureWarning: Series.base is deprecated and will be removed in a future version\n",
            "  if getattr(data, 'base', None) is not None and \\\n"
          ],
          "name": "stderr"
        },
        {
          "output_type": "stream",
          "text": [
            "[16:44:19] WARNING: /workspace/src/objective/regression_obj.cu:152: reg:linear is now deprecated in favor of reg:squarederror.\n"
          ],
          "name": "stdout"
        },
        {
          "output_type": "stream",
          "text": [
            "/usr/local/lib/python3.6/dist-packages/xgboost/core.py:587: FutureWarning: Series.base is deprecated and will be removed in a future version\n",
            "  if getattr(data, 'base', None) is not None and \\\n"
          ],
          "name": "stderr"
        },
        {
          "output_type": "stream",
          "text": [
            "[16:44:21] WARNING: /workspace/src/objective/regression_obj.cu:152: reg:linear is now deprecated in favor of reg:squarederror.\n"
          ],
          "name": "stdout"
        },
        {
          "output_type": "stream",
          "text": [
            "/usr/local/lib/python3.6/dist-packages/xgboost/core.py:587: FutureWarning: Series.base is deprecated and will be removed in a future version\n",
            "  if getattr(data, 'base', None) is not None and \\\n"
          ],
          "name": "stderr"
        },
        {
          "output_type": "stream",
          "text": [
            "[16:44:22] WARNING: /workspace/src/objective/regression_obj.cu:152: reg:linear is now deprecated in favor of reg:squarederror.\n"
          ],
          "name": "stdout"
        },
        {
          "output_type": "stream",
          "text": [
            "/usr/local/lib/python3.6/dist-packages/xgboost/core.py:587: FutureWarning: Series.base is deprecated and will be removed in a future version\n",
            "  if getattr(data, 'base', None) is not None and \\\n"
          ],
          "name": "stderr"
        },
        {
          "output_type": "stream",
          "text": [
            "[16:44:23] WARNING: /workspace/src/objective/regression_obj.cu:152: reg:linear is now deprecated in favor of reg:squarederror.\n"
          ],
          "name": "stdout"
        },
        {
          "output_type": "stream",
          "text": [
            "/usr/local/lib/python3.6/dist-packages/xgboost/core.py:587: FutureWarning: Series.base is deprecated and will be removed in a future version\n",
            "  if getattr(data, 'base', None) is not None and \\\n"
          ],
          "name": "stderr"
        },
        {
          "output_type": "stream",
          "text": [
            "[16:44:25] WARNING: /workspace/src/objective/regression_obj.cu:152: reg:linear is now deprecated in favor of reg:squarederror.\n"
          ],
          "name": "stdout"
        },
        {
          "output_type": "stream",
          "text": [
            "/usr/local/lib/python3.6/dist-packages/xgboost/core.py:587: FutureWarning: Series.base is deprecated and will be removed in a future version\n",
            "  if getattr(data, 'base', None) is not None and \\\n"
          ],
          "name": "stderr"
        },
        {
          "output_type": "stream",
          "text": [
            "[16:44:28] WARNING: /workspace/src/objective/regression_obj.cu:152: reg:linear is now deprecated in favor of reg:squarederror.\n"
          ],
          "name": "stdout"
        },
        {
          "output_type": "stream",
          "text": [
            "/usr/local/lib/python3.6/dist-packages/xgboost/core.py:587: FutureWarning: Series.base is deprecated and will be removed in a future version\n",
            "  if getattr(data, 'base', None) is not None and \\\n"
          ],
          "name": "stderr"
        },
        {
          "output_type": "stream",
          "text": [
            "[16:44:30] WARNING: /workspace/src/objective/regression_obj.cu:152: reg:linear is now deprecated in favor of reg:squarederror.\n"
          ],
          "name": "stdout"
        },
        {
          "output_type": "stream",
          "text": [
            "/usr/local/lib/python3.6/dist-packages/xgboost/core.py:587: FutureWarning: Series.base is deprecated and will be removed in a future version\n",
            "  if getattr(data, 'base', None) is not None and \\\n"
          ],
          "name": "stderr"
        },
        {
          "output_type": "stream",
          "text": [
            "[16:44:31] WARNING: /workspace/src/objective/regression_obj.cu:152: reg:linear is now deprecated in favor of reg:squarederror.\n"
          ],
          "name": "stdout"
        },
        {
          "output_type": "stream",
          "text": [
            "/usr/local/lib/python3.6/dist-packages/xgboost/core.py:587: FutureWarning: Series.base is deprecated and will be removed in a future version\n",
            "  if getattr(data, 'base', None) is not None and \\\n"
          ],
          "name": "stderr"
        },
        {
          "output_type": "stream",
          "text": [
            "[16:44:32] WARNING: /workspace/src/objective/regression_obj.cu:152: reg:linear is now deprecated in favor of reg:squarederror.\n"
          ],
          "name": "stdout"
        },
        {
          "output_type": "stream",
          "text": [
            "/usr/local/lib/python3.6/dist-packages/xgboost/core.py:587: FutureWarning: Series.base is deprecated and will be removed in a future version\n",
            "  if getattr(data, 'base', None) is not None and \\\n"
          ],
          "name": "stderr"
        },
        {
          "output_type": "stream",
          "text": [
            "[16:44:33] WARNING: /workspace/src/objective/regression_obj.cu:152: reg:linear is now deprecated in favor of reg:squarederror.\n"
          ],
          "name": "stdout"
        },
        {
          "output_type": "stream",
          "text": [
            "/usr/local/lib/python3.6/dist-packages/xgboost/core.py:587: FutureWarning: Series.base is deprecated and will be removed in a future version\n",
            "  if getattr(data, 'base', None) is not None and \\\n"
          ],
          "name": "stderr"
        },
        {
          "output_type": "stream",
          "text": [
            "[16:44:34] WARNING: /workspace/src/objective/regression_obj.cu:152: reg:linear is now deprecated in favor of reg:squarederror.\n"
          ],
          "name": "stdout"
        },
        {
          "output_type": "stream",
          "text": [
            "/usr/local/lib/python3.6/dist-packages/xgboost/core.py:587: FutureWarning: Series.base is deprecated and will be removed in a future version\n",
            "  if getattr(data, 'base', None) is not None and \\\n"
          ],
          "name": "stderr"
        },
        {
          "output_type": "stream",
          "text": [
            "[16:44:36] WARNING: /workspace/src/objective/regression_obj.cu:152: reg:linear is now deprecated in favor of reg:squarederror.\n"
          ],
          "name": "stdout"
        },
        {
          "output_type": "stream",
          "text": [
            "/usr/local/lib/python3.6/dist-packages/xgboost/core.py:587: FutureWarning: Series.base is deprecated and will be removed in a future version\n",
            "  if getattr(data, 'base', None) is not None and \\\n"
          ],
          "name": "stderr"
        },
        {
          "output_type": "stream",
          "text": [
            "[16:44:37] WARNING: /workspace/src/objective/regression_obj.cu:152: reg:linear is now deprecated in favor of reg:squarederror.\n"
          ],
          "name": "stdout"
        },
        {
          "output_type": "stream",
          "text": [
            "/usr/local/lib/python3.6/dist-packages/xgboost/core.py:587: FutureWarning: Series.base is deprecated and will be removed in a future version\n",
            "  if getattr(data, 'base', None) is not None and \\\n"
          ],
          "name": "stderr"
        },
        {
          "output_type": "stream",
          "text": [
            "[16:44:41] WARNING: /workspace/src/objective/regression_obj.cu:152: reg:linear is now deprecated in favor of reg:squarederror.\n"
          ],
          "name": "stdout"
        },
        {
          "output_type": "stream",
          "text": [
            "/usr/local/lib/python3.6/dist-packages/xgboost/core.py:587: FutureWarning: Series.base is deprecated and will be removed in a future version\n",
            "  if getattr(data, 'base', None) is not None and \\\n"
          ],
          "name": "stderr"
        },
        {
          "output_type": "stream",
          "text": [
            "[16:44:44] WARNING: /workspace/src/objective/regression_obj.cu:152: reg:linear is now deprecated in favor of reg:squarederror.\n"
          ],
          "name": "stdout"
        },
        {
          "output_type": "stream",
          "text": [
            "[Parallel(n_jobs=1)]: Done  27 out of  27 | elapsed:   37.9s finished\n",
            "/usr/local/lib/python3.6/dist-packages/xgboost/core.py:587: FutureWarning: Series.base is deprecated and will be removed in a future version\n",
            "  if getattr(data, 'base', None) is not None and \\\n"
          ],
          "name": "stderr"
        },
        {
          "output_type": "stream",
          "text": [
            "[16:44:48] WARNING: /workspace/src/objective/regression_obj.cu:152: reg:linear is now deprecated in favor of reg:squarederror.\n"
          ],
          "name": "stdout"
        },
        {
          "output_type": "execute_result",
          "data": {
            "text/plain": [
              "GridSearchCV(cv='warn', error_score='raise-deprecating',\n",
              "             estimator=XGBRegressor(base_score=0.5, booster='gbtree',\n",
              "                                    colsample_bylevel=1, colsample_bynode=1,\n",
              "                                    colsample_bytree=1, gamma=0,\n",
              "                                    importance_type='gain', learning_rate=0.1,\n",
              "                                    max_delta_step=0, max_depth=3,\n",
              "                                    min_child_weight=1, missing=None,\n",
              "                                    n_estimators=100, n_jobs=1, njobs=-1,\n",
              "                                    nthread=None, objective='reg:linear',\n",
              "                                    random_state=0, reg_alpha=0, reg_lambda=1,\n",
              "                                    scale_pos_weight=1, seed=None, silent=None,\n",
              "                                    subsample=1, verbosity=1),\n",
              "             iid='warn', n_jobs=None,\n",
              "             param_grid={'max_depth': [2, 4, 6],\n",
              "                         'n_estimators': [50, 100, 200]},\n",
              "             pre_dispatch='2*n_jobs', refit=True, return_train_score=False,\n",
              "             scoring=None, verbose=1)"
            ]
          },
          "metadata": {
            "tags": []
          },
          "execution_count": 278
        }
      ]
    },
    {
      "cell_type": "code",
      "metadata": {
        "id": "JQmtUFaAk9sS",
        "colab_type": "code",
        "colab": {
          "base_uri": "https://localhost:8080/",
          "height": 193
        },
        "outputId": "85c3ade3-39c3-4524-a094-60924d7cc83b"
      },
      "source": [
        "reg_xgb = xgb.XGBRegressor(**reg_xgb_cv.best_params_)\n",
        "reg_xgb.fit(X_train, y_train)"
      ],
      "execution_count": 281,
      "outputs": [
        {
          "output_type": "stream",
          "text": [
            "/usr/local/lib/python3.6/dist-packages/xgboost/core.py:587: FutureWarning: Series.base is deprecated and will be removed in a future version\n",
            "  if getattr(data, 'base', None) is not None and \\\n"
          ],
          "name": "stderr"
        },
        {
          "output_type": "stream",
          "text": [
            "[16:45:23] WARNING: /workspace/src/objective/regression_obj.cu:152: reg:linear is now deprecated in favor of reg:squarederror.\n"
          ],
          "name": "stdout"
        },
        {
          "output_type": "execute_result",
          "data": {
            "text/plain": [
              "XGBRegressor(base_score=0.5, booster='gbtree', colsample_bylevel=1,\n",
              "             colsample_bynode=1, colsample_bytree=1, gamma=0,\n",
              "             importance_type='gain', learning_rate=0.1, max_delta_step=0,\n",
              "             max_depth=6, min_child_weight=1, missing=None, n_estimators=200,\n",
              "             n_jobs=1, nthread=None, objective='reg:linear', random_state=0,\n",
              "             reg_alpha=0, reg_lambda=1, scale_pos_weight=1, seed=None,\n",
              "             silent=None, subsample=1, verbosity=1)"
            ]
          },
          "metadata": {
            "tags": []
          },
          "execution_count": 281
        }
      ]
    },
    {
      "cell_type": "code",
      "metadata": {
        "id": "j6qkk-P8lHzq",
        "colab_type": "code",
        "colab": {
          "base_uri": "https://localhost:8080/",
          "height": 52
        },
        "outputId": "9ea3a819-ecc6-4529-d222-d45edb76b707"
      },
      "source": [
        "#MSE\n",
        "pred_train = reg_xgb.predict(X_train)\n",
        "pred_test = reg_xgb.predict(X_test)\n",
        "print(mean_squared_error(y_train, pred_train))\n",
        "print(mean_squared_error(y_test, pred_test))"
      ],
      "execution_count": 287,
      "outputs": [
        {
          "output_type": "stream",
          "text": [
            "387688676.3225377\n",
            "295454807260.0048\n"
          ],
          "name": "stdout"
        }
      ]
    },
    {
      "cell_type": "code",
      "metadata": {
        "id": "YkXB2iKAmGGq",
        "colab_type": "code",
        "colab": {
          "base_uri": "https://localhost:8080/",
          "height": 52
        },
        "outputId": "89e45e0a-5758-4c6f-c91f-b169eb8465fc"
      },
      "source": [
        "#MAPE\n",
        "print(np.mean(np.abs((y_train - pred_train) / y_train)) * 100)\n",
        "print(np.mean(np.abs((y_test - pred_test) / y_test)) * 100)"
      ],
      "execution_count": 290,
      "outputs": [
        {
          "output_type": "stream",
          "text": [
            "0.04104850695056502\n",
            "0.22193160766195383\n"
          ],
          "name": "stdout"
        }
      ]
    }
  ]
}